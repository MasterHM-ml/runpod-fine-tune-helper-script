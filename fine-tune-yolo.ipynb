{
 "cells": [
  {
   "cell_type": "code",
   "execution_count": null,
   "metadata": {},
   "outputs": [],
   "source": [
    "%load_ext tensorboard\n",
    "%tensorboard --logdir ."
   ]
  },
  {
   "cell_type": "code",
   "execution_count": null,
   "metadata": {},
   "outputs": [],
   "source": [
    "# training command\n",
    "!nohup yolo task=detect mode=train model=pretrained_models/yolov8x.pt data=data.yaml epochs=100 imgsz=\"(720,2560)\" save_period=1 batch=2 pretrained=pretrained_models/yolov8x.pt plots=true > logs/train/100e.txt 2>&1 &\n",
    "!nohup tensorboard --logdir runs/detect --port 4000 --bind_all > logs/tensorboard.logs 2>&1 &"
   ]
  },
  {
   "cell_type": "code",
   "execution_count": null,
   "metadata": {},
   "outputs": [],
   "source": [
    "# inference command\n",
    "!yolo task=detect mode=predict model=runs/detect/train-100e/weights/best.pt source=input_videos/2.mp4 save=true save_txt=true imgsz=\"(720,2560)\" classes=32  2>&1 | tee logs/inference/100e-model.txt"
   ]
  },
  {
   "cell_type": "code",
   "execution_count": null,
   "metadata": {},
   "outputs": [],
   "source": [
    "!yolo task=detect mode=predict model=runs/detect/train-100e/weights/best.pt source=input_videos/2.mp4 save=true save_txt=true imgsz=\"(720,2560)\" classes=32  2>&1 | tee logs/inference/100e-model.txt"
   ]
  },
  {
   "cell_type": "code",
   "execution_count": 2,
   "metadata": {},
   "outputs": [
    {
     "name": "stdout",
     "output_type": "stream",
     "text": [
      "5622\n",
      "5677\n"
     ]
    }
   ],
   "source": [
    "!cat logs/inference/100e-model.txt | grep sports | wc -l\n",
    "!cat logs/inference/original-model-2mp4.txt | grep sports | wc -l"
   ]
  },
  {
   "cell_type": "code",
   "execution_count": 12,
   "metadata": {},
   "outputs": [
    {
     "name": "stdout",
     "output_type": "stream",
     "text": [
      "/workspace/codebase/input_videos\n"
     ]
    },
    {
     "name": "stderr",
     "output_type": "stream",
     "text": [
      "/workspace/env/lib/python3.10/site-packages/IPython/core/magics/osm.py:417: UserWarning: This is now an optional IPython functionality, setting dhist requires you to install the `pickleshare` library.\n",
      "  self.shell.db['dhist'] = compress_dhist(dhist)[-100:]\n"
     ]
    },
    {
     "name": "stdout",
     "output_type": "stream",
     "text": [
      "Downloading...\n",
      "From: https://drive.google.com/uc?id=17H6gMG99cvqwLBNZWormM4rVS2z2b8HD\n",
      "To: /workspace/codebase/input_videos/pi1-20240329_215144.mp4\n",
      "100%|████████████████████████████████████████| 105M/105M [00:02<00:00, 50.8MB/s]\n",
      "/workspace/codebase\n"
     ]
    }
   ],
   "source": [
    "%cd input_videos\n",
    "# !gdown 1YVpeLLWdpOjPkCRdVTovXOsg2soVOF7O  # primary view\n",
    "!gdown 17H6gMG99cvqwLBNZWormM4rVS2z2b8HD # secondary view\n",
    "%cd .."
   ]
  },
  {
   "cell_type": "code",
   "execution_count": 13,
   "metadata": {},
   "outputs": [],
   "source": [
    "# getting clip from video\n",
    "\n",
    "# input_video_path = \"./input_videos/pi3-20240329_215144.mp4\" # primary view\n",
    "input_video_path = \"input_videos/pi1-20240329_215144.mp4\" # secondary view\n",
    "\n",
    "starting_index = 1150\n",
    "ending_index = 1250\n",
    "video_ext = input_video_path.split(\".\")[-1]\n",
    "output_video_path = input_video_path.replace(f'.{video_ext}', f'_{starting_index}_{ending_index}.{video_ext}')\n",
    "\n",
    "import cv2\n",
    "vid = cv2.VideoCapture(input_video_path)\n",
    "vid_writer = cv2.VideoWriter(output_video_path,\n",
    "    cv2.VideoWriter_fourcc(*\"mp4v\"),\n",
    "    int(vid.get(cv2.CAP_PROP_FPS)),\n",
    "    (int(vid.get(cv2.CAP_PROP_FRAME_WIDTH)), int(vid.get(cv2.CAP_PROP_FRAME_HEIGHT)))\n",
    ")\n",
    "vid.set(cv2.CAP_PROP_POS_FRAMES, starting_index)\n",
    "for i in range(starting_index,ending_index):\n",
    "    s, f = vid.read()\n",
    "    if not s:\n",
    "        raise Exception(\"Can't read frame from video at %d \" % i)\n",
    "    vid_writer.write(f)\n",
    "vid_writer.release()\n",
    "vid.release()"
   ]
  },
  {
   "cell_type": "code",
   "execution_count": null,
   "metadata": {},
   "outputs": [],
   "source": [
    "!yolo task=detect mode=track model=pretrained_models/yolov8x.pt source=input_videos/pi3-20240329_215144_1150_1250.mp4 save=true save_txt=true save_conf=true conf='0.01' imgsz=\"(1080,1920)\" classes=32 tracker=\"botsort.yaml\"  2>&1 | tee logs/track/original_model_edge_case_detect_botsort.txt"
   ]
  },
  {
   "cell_type": "code",
   "execution_count": 9,
   "metadata": {},
   "outputs": [
    {
     "data": {
      "text/plain": [
       "True"
      ]
     },
     "execution_count": 9,
     "metadata": {},
     "output_type": "execute_result"
    }
   ],
   "source": [
    "index=1197\n",
    "import cv2\n",
    "input_video_path=\"input_videos/pi3-20240329_215144.mp4\"\n",
    "vid = cv2.VideoCapture(input_video_path)\n",
    "\n",
    "vid.set(cv2.CAP_PROP_POS_FRAMES, index)\n",
    "s, f = vid.read()\n",
    "cv2.imwrite(f\"{index}.png\", f)"
   ]
  },
  {
   "cell_type": "code",
   "execution_count": 12,
   "metadata": {},
   "outputs": [
    {
     "name": "stdout",
     "output_type": "stream",
     "text": [
      "Ultralytics YOLOv8.2.5 🚀 Python-3.10.12 torch-2.3.0+cu121 CUDA:0 (NVIDIA GeForce RTX 4090, 24217MiB)\n",
      "YOLOv8x summary (fused): 268 layers, 68200608 parameters, 0 gradients, 257.8 GFLOPs\n",
      "\n",
      "image 1/1 /workspace/codebase/1197_ball.png: 576x640 2 sports balls, 88.3ms\n",
      "Speed: 4.8ms preprocess, 88.3ms inference, 3886.2ms postprocess per image at shape (1, 3, 576, 640)\n",
      "Results saved to \u001b[1mruns/detect/predict3\u001b[0m\n",
      "1 label saved to runs/detect/predict3/labels\n",
      "💡 Learn more at https://docs.ultralytics.com/modes/predict\n"
     ]
    }
   ],
   "source": [
    "!yolo task=detect mode=predict model=pretrained_models/yolov8x.pt source=\"1197_ball.png\" save=true save_txt=true save_conf=true conf='0.01' classes=32  2>&1"
   ]
  },
  {
   "cell_type": "code",
   "execution_count": null,
   "metadata": {},
   "outputs": [],
   "source": []
  }
 ],
 "metadata": {
  "kernelspec": {
   "display_name": "env",
   "language": "python",
   "name": "python3"
  },
  "language_info": {
   "codemirror_mode": {
    "name": "ipython",
    "version": 3
   },
   "file_extension": ".py",
   "mimetype": "text/x-python",
   "name": "python",
   "nbconvert_exporter": "python",
   "pygments_lexer": "ipython3",
   "version": "3.10.12"
  }
 },
 "nbformat": 4,
 "nbformat_minor": 2
}
