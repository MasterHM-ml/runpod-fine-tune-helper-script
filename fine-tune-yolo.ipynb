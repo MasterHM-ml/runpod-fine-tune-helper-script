{
 "cells": [
  {
   "cell_type": "code",
   "execution_count": null,
   "metadata": {},
   "outputs": [],
   "source": [
    "%load_ext tensorboard\n",
    "%tensorboard --logdir ."
   ]
  },
  {
   "cell_type": "code",
   "execution_count": null,
   "metadata": {},
   "outputs": [],
   "source": [
    "# training command\n",
    "!nohup yolo task=detect mode=train model=pretrained_models/yolov8x.pt data=data.yaml epochs=100 imgsz=\"(720,2560)\" save_period=1 batch=2 pretrained=pretrained_models/yolov8x.pt plots=true > logs/train/100e.txt 2>&1 &\n",
    "!nohup tensorboard --logdir runs/detect --port 4000 --bind_all > logs/tensorboard.logs 2>&1 &"
   ]
  },
  {
   "cell_type": "code",
   "execution_count": null,
   "metadata": {},
   "outputs": [],
   "source": [
    "# inference command\n",
    "!yolo task=detect mode=predict model=runs/detect/train-100e/weights/best.pt source=input_videos/2.mp4 save=true save_txt=true imgsz=\"(720,2560)\" classes=32  2>&1 | tee logs/inference/100e-model.txt"
   ]
  },
  {
   "cell_type": "code",
   "execution_count": null,
   "metadata": {},
   "outputs": [],
   "source": [
    "!yolo task=detect mode=predict model=runs/detect/train-100e/weights/best.pt source=input_videos/2.mp4 save=true save_txt=true imgsz=\"(720,2560)\" classes=32  2>&1 | tee logs/inference/100e-model.txt"
   ]
  },
  {
   "cell_type": "code",
   "execution_count": null,
   "metadata": {},
   "outputs": [],
   "source": [
    "!cat logs/inference/100e-model.txt | grep sports | wc -l\n",
    "!cat logs/inference/original-model-2mp4.txt | grep sports | wc -l"
   ]
  },
  {
   "cell_type": "code",
   "execution_count": null,
   "metadata": {},
   "outputs": [],
   "source": [
    "%cd input_videos\n",
    "# !gdown 1YVpeLLWdpOjPkCRdVTovXOsg2soVOF7O  # primary view\n",
    "!gdown 17H6gMG99cvqwLBNZWormM4rVS2z2b8HD # secondary view\n",
    "%cd .."
   ]
  },
  {
   "cell_type": "code",
   "execution_count": null,
   "metadata": {},
   "outputs": [],
   "source": [
    "# getting clip from video\n",
    "\n",
    "# input_video_path = \"./input_videos/pi3-20240329_215144.mp4\" # primary view\n",
    "input_video_path = \"input_videos/pi1-20240329_215144.mp4\" # secondary view\n",
    "\n",
    "starting_index = 1150\n",
    "ending_index = 1250\n",
    "video_ext = input_video_path.split(\".\")[-1]\n",
    "output_video_path = input_video_path.replace(f'.{video_ext}', f'_{starting_index}_{ending_index}.{video_ext}')\n",
    "\n",
    "import cv2\n",
    "vid = cv2.VideoCapture(input_video_path)\n",
    "vid_writer = cv2.VideoWriter(output_video_path,\n",
    "    cv2.VideoWriter_fourcc(*\"mp4v\"),\n",
    "    int(vid.get(cv2.CAP_PROP_FPS)),\n",
    "    (int(vid.get(cv2.CAP_PROP_FRAME_WIDTH)), int(vid.get(cv2.CAP_PROP_FRAME_HEIGHT)))\n",
    ")\n",
    "vid.set(cv2.CAP_PROP_POS_FRAMES, starting_index)\n",
    "for i in range(starting_index,ending_index):\n",
    "    s, f = vid.read()\n",
    "    if not s:\n",
    "        raise Exception(\"Can't read frame from video at %d \" % i)\n",
    "    vid_writer.write(f)\n",
    "vid_writer.release()\n",
    "vid.release()"
   ]
  },
  {
   "cell_type": "code",
   "execution_count": null,
   "metadata": {},
   "outputs": [],
   "source": [
    "# !yolo task=detect mode=track model=pretrained_models/yolov8x.pt source=input_videos/primary.mp4 save=true save_txt=true save_conf=true imgsz=\"(1080,3840)\"  2>&1 | tee logs/track/original_model_track_primary.txt\n",
    "# conf='0.01' classes=32 tracker=\"botsort.yaml\" "
   ]
  },
  {
   "cell_type": "code",
   "execution_count": null,
   "metadata": {},
   "outputs": [],
   "source": [
    "index=1197\n",
    "import cv2\n",
    "input_video_path=\"input_videos/pi3-20240329_215144.mp4\"\n",
    "vid = cv2.VideoCapture(input_video_path)\n",
    "\n",
    "vid.set(cv2.CAP_PROP_POS_FRAMES, index)\n",
    "s, f = vid.read()\n",
    "cv2.imwrite(f\"{index}.png\", f)"
   ]
  },
  {
   "cell_type": "code",
   "execution_count": null,
   "metadata": {},
   "outputs": [],
   "source": [
    "!yolo task=detect mode=predict model=pretrained_models/yolov8x.pt source=\"1197_ball.png\" save=true save_txt=true save_conf=true conf='0.01' classes=32  2>&1"
   ]
  },
  {
   "cell_type": "code",
   "execution_count": null,
   "metadata": {},
   "outputs": [],
   "source": []
  }
 ],
 "metadata": {
  "kernelspec": {
   "display_name": "env",
   "language": "python",
   "name": "python3"
  },
  "language_info": {
   "codemirror_mode": {
    "name": "ipython",
    "version": 3
   },
   "file_extension": ".py",
   "mimetype": "text/x-python",
   "name": "python",
   "nbconvert_exporter": "python",
   "pygments_lexer": "ipython3",
   "version": "3.10.12"
  }
 },
 "nbformat": 4,
 "nbformat_minor": 2
}
