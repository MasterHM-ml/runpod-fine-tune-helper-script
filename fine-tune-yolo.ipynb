{
 "cells": [
  {
   "cell_type": "code",
   "execution_count": null,
   "metadata": {},
   "outputs": [],
   "source": [
    "%load_ext tensorboard\n",
    "%tensorboard --logdir ."
   ]
  },
  {
   "cell_type": "code",
   "execution_count": null,
   "metadata": {},
   "outputs": [],
   "source": [
    "# training command\n",
    "!nohup yolo task=detect mode=train model=pretrained_models/yolov8x.pt data=data.yaml epochs=100 imgsz=\"(720,2560)\" save_period=1 batch=2 pretrained=pretrained_models/yolov8x.pt plots=true > logs/train/100e.txt 2>&1 &\n",
    "!nohup tensorboard --logdir runs/detect --port 4000 --bind_all > logs/tensorboard.logs 2>&1 &"
   ]
  },
  {
   "cell_type": "code",
   "execution_count": null,
   "metadata": {},
   "outputs": [],
   "source": [
    "# inference command\n",
    "!yolo task=detect mode=predict model=runs/detect/train-100e/weights/best.pt source=input_videos/2.mp4 save=true save_txt=true imgsz=\"(720,2560)\" classes=32  2>&1 | tee logs/inference/100e-model.txt"
   ]
  },
  {
   "cell_type": "code",
   "execution_count": null,
   "metadata": {},
   "outputs": [],
   "source": [
    "!yolo task=detect mode=predict model=runs/detect/train-100e/weights/best.pt source=input_videos/2.mp4 save=true save_txt=true imgsz=\"(720,2560)\" classes=32  2>&1 | tee logs/inference/100e-model.txt"
   ]
  },
  {
   "cell_type": "code",
   "execution_count": 2,
   "metadata": {},
   "outputs": [
    {
     "name": "stdout",
     "output_type": "stream",
     "text": [
      "5622\n",
      "5677\n"
     ]
    }
   ],
   "source": [
    "!cat logs/inference/100e-model.txt | grep sports | wc -l\n",
    "!cat logs/inference/original-model-2mp4.txt | grep sports | wc -l"
   ]
  },
  {
   "cell_type": "code",
   "execution_count": null,
   "metadata": {},
   "outputs": [],
   "source": []
  }
 ],
 "metadata": {
  "kernelspec": {
   "display_name": "env",
   "language": "python",
   "name": "python3"
  },
  "language_info": {
   "codemirror_mode": {
    "name": "ipython",
    "version": 3
   },
   "file_extension": ".py",
   "mimetype": "text/x-python",
   "name": "python",
   "nbconvert_exporter": "python",
   "pygments_lexer": "ipython3",
   "version": "3.10.12"
  }
 },
 "nbformat": 4,
 "nbformat_minor": 2
}
